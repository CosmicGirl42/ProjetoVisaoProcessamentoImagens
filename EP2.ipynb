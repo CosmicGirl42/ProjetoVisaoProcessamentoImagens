{
 "cells": [
  {
   "cell_type": "markdown",
   "metadata": {},
   "source": [
    "# EP2"
   ]
  },
  {
   "cell_type": "code",
   "execution_count": 1,
   "metadata": {},
   "outputs": [],
   "source": [
    "# LIBS\n",
    "# std libs\n",
    "\n",
    "import glob\n",
    "import os\n",
    "import sys\n",
    "\n",
    "# external libs\n",
    "from matplotlib import pyplot\n",
    "import cv2\n",
    "\n",
    "# Load path as one up directory\n",
    "sys.path.append('..')\n",
    "\n",
    "from ep1_functions import get_files, plot_mnist, add_to_env, print_info"
   ]
  },
  {
   "cell_type": "code",
   "execution_count": null,
   "metadata": {},
   "outputs": [],
   "source": []
  }
 ],
 "metadata": {
  "kernelspec": {
   "display_name": "Python 3",
   "name": "python3"
  },
  "language_info": {
   "codemirror_mode": {
    "name": "ipython",
    "version": 3
   },
   "file_extension": ".py",
   "mimetype": "text/x-python",
   "name": "python",
   "nbconvert_exporter": "python",
   "pygments_lexer": "ipython3",
   "version": "3.8.6"
  },
  "orig_nbformat": 2
 },
 "nbformat": 4,
 "nbformat_minor": 2
}